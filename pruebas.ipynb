{
 "cells": [
  {
   "cell_type": "code",
   "execution_count": 22,
   "metadata": {},
   "outputs": [],
   "source": [
    "from secreto import API_KEY\n",
    "import os\n",
    "from googleapiclient.discovery import build\n",
    "import pandas as pd\n",
    "import matplotlib.pyplot as plt\n",
    "\n",
    "def primera_pagina(VideoId):\n",
    "\n",
    "    youtube = build(\n",
    "        \"youtube\", \"v3\", developerKey = API_KEY)\n",
    "\n",
    "    request = youtube.commentThreads().list(\n",
    "        part=\"id, snippet, replies\",\n",
    "        videoId=VideoId,\n",
    "        maxResults = 100\n",
    "    )\n",
    "    respuesta = request.execute()\n",
    "\n",
    "    return respuesta\n",
    "\n",
    "def siguiente_pagina(VideoId,nextPageToken):\n",
    "    \n",
    "    youtube = build(\n",
    "        \"youtube\", \"v3\", developerKey = API_KEY)\n",
    "\n",
    "    request = youtube.commentThreads().list(\n",
    "        part = \"id, snippet, replies\",\n",
    "        videoId = VideoId,\n",
    "        pageToken = nextPageToken,\n",
    "        maxResults = 100\n",
    "    )\n",
    "    response = request.execute()\n",
    "\n",
    "    return response\n",
    "\n",
    "def transformacion(respuesta):\n",
    "    \n",
    "    df = pd.DataFrame(columns=[\"autor\",\"texto\"])\n",
    "    \n",
    "    for n in range(0,len(respuesta[\"items\"])):\n",
    "        autor = respuesta[\"items\"][n][\"snippet\"][\"topLevelComment\"][\"snippet\"][\"authorDisplayName\"]\n",
    "        texto = respuesta[\"items\"][n][\"snippet\"][\"topLevelComment\"][\"snippet\"][\"textDisplay\"]\n",
    "        df.loc[n,\"autor\"] = autor\n",
    "        df.loc[n,\"texto\"] = texto\n",
    "\n",
    "    return df\n",
    "\n",
    "\n",
    "def crear_dataframe(VideoId):\n",
    "\n",
    "    respuesta = primera_pagina(VideoId)\n",
    "    \n",
    "    df = transformacion(respuesta)\n",
    "    \n",
    "    while 'nextPageToken' in respuesta.keys():\n",
    "        respuesta = siguiente_pagina(VideoId,respuesta['nextPageToken'])\n",
    "        df2 = transformacion(respuesta)\n",
    "        df = pd.concat([df,df2], axis=0)\n",
    "\n",
    "    return df\n",
    "\n",
    "def contar(VideoId):\n",
    "\n",
    "    df = crear_dataframe(VideoId)\n",
    "\n",
    "    diccionario = {\n",
    "        \"4556\":df[\"texto\"].str.contains(\"4556\").sum(),\n",
    "        \"4557\":df[\"texto\"].str.contains(\"4557\").sum(),\n",
    "        \"4558\":df[\"texto\"].str.contains(\"4558\").sum(),\n",
    "        \"4559\":df[\"texto\"].str.contains(\"4559\").sum()\n",
    "        }\n",
    "    \n",
    "    if diccionario[\"4558\"] == 0:\n",
    "        diccionario.pop(\"4558\")\n",
    "\n",
    "    if diccionario[\"4559\"] == 0:\n",
    "        diccionario.pop(\"4559\")\n",
    "\n",
    "    porcentajes = porcentaje(diccionario)\n",
    "\n",
    "    return diccionario, porcentajes\n",
    "\n",
    "def porcentaje(diccionario):\n",
    "\n",
    "    total = diccionario[\"4556\"] + diccionario[\"4557\"]\n",
    "    seis = str(round(diccionario[\"4556\"] * 100 / total,2)) + \" %\"\n",
    "    siete = str(round(diccionario[\"4557\"] * 100 / total,2)) + \" %\"\n",
    "\n",
    "    porcentajes = {\"4556\":seis, \"4557\":siete}\n",
    "\n",
    "    return porcentajes"
   ]
  },
  {
   "cell_type": "code",
   "execution_count": 23,
   "metadata": {},
   "outputs": [
    {
     "name": "stdout",
     "output_type": "stream",
     "text": [
      "({'4556': 22, '4557': 16, '4558': 3}, {'4556': '57.89 %', '4557': '42.11 %'})\n"
     ]
    }
   ],
   "source": [
    "VideoId = \"pMYLWBZlEKA\" # 16-10-22 ({'4556': 88, '4557': 43}, {'4556': '67.18 %', '4557': '32.82 %'})\n",
    "VideoId = \"ZoIL42XmNlY\" # 23-10-22 ({'4556': 68, '4557': 50, '4558': 8, '4559': 4}, {'4556': '57.63 %', '4557': '42.37 %'})\n",
    "VideoId = \"NcIsIcPG7Lg\" # 30-10-22 ({'4556': 53, '4557': 31, '4558': 13}, {'4556': '63.1 %', '4557': '36.9 %'})\n",
    "VideoId = \"unCpPLTniI8\" # 06-11-22 ({'4556': 25, '4557': 46, '4558': 6}, {'4556': '35.21 %', '4557': '64.79 %'})\n",
    "VideoId = \"ZdHiVyqD7Qk\" # 13-11-22 ({'4556': 22, '4557': 16, '4558': 3}, {'4556': '57.89 %', '4557': '42.11 %'})\n",
    "\n",
    "\n",
    "print(contar(VideoId))"
   ]
  },
  {
   "cell_type": "markdown",
   "metadata": {},
   "source": [
    "- evitar que se tome mas de un tipo de voto por usuario\n",
    "- interfaz gráfica\n",
    "- exportar resultados a excel histórico"
   ]
  }
 ],
 "metadata": {
  "kernelspec": {
   "display_name": "Python 3.10.0 64-bit",
   "language": "python",
   "name": "python3"
  },
  "language_info": {
   "codemirror_mode": {
    "name": "ipython",
    "version": 3
   },
   "file_extension": ".py",
   "mimetype": "text/x-python",
   "name": "python",
   "nbconvert_exporter": "python",
   "pygments_lexer": "ipython3",
   "version": "3.10.0"
  },
  "orig_nbformat": 4,
  "vscode": {
   "interpreter": {
    "hash": "bb005c365038adc55fb7897537444f2e763afd05144f871366f10ce7eef6d0d6"
   }
  }
 },
 "nbformat": 4,
 "nbformat_minor": 2
}
