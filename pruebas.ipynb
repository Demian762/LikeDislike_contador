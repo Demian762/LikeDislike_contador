{
 "cells": [
  {
   "cell_type": "code",
   "execution_count": null,
   "metadata": {},
   "outputs": [],
   "source": [
    "!pip install google-api-python-client"
   ]
  },
  {
   "cell_type": "code",
   "execution_count": 1,
   "metadata": {},
   "outputs": [],
   "source": [
    "from secreto import API_KEY\n",
    "import os\n",
    "from googleapiclient.discovery import build\n",
    "import pandas as pd\n",
    "import matplotlib.pyplot as plt"
   ]
  },
  {
   "cell_type": "code",
   "execution_count": 2,
   "metadata": {},
   "outputs": [],
   "source": [
    "VideoId = \"ZoIL42XmNlY\" # 23-10-22"
   ]
  },
  {
   "cell_type": "code",
   "execution_count": 2,
   "metadata": {},
   "outputs": [],
   "source": [
    "VideoId = \"pMYLWBZlEKA\" # 16-10-22 {'seis': 88, 'siete': 43, 'ocho': 0, 'nueve': 0}"
   ]
  },
  {
   "cell_type": "code",
   "execution_count": 7,
   "metadata": {},
   "outputs": [],
   "source": [
    "def primera_pagina(VideoId):\n",
    "\n",
    "    youtube = build(\n",
    "        \"youtube\", \"v3\", developerKey = API_KEY)\n",
    "\n",
    "    request = youtube.commentThreads().list(\n",
    "        part=\"id, snippet, replies\",\n",
    "        videoId=VideoId,\n",
    "        maxResults = 100\n",
    "    )\n",
    "    respuesta = request.execute()\n",
    "\n",
    "    return respuesta\n",
    "\n",
    "def siguiente_pagina(VideoId,nextPageToken):\n",
    "    \n",
    "    youtube = build(\n",
    "        \"youtube\", \"v3\", developerKey = API_KEY)\n",
    "\n",
    "    request = youtube.commentThreads().list(\n",
    "        part = \"id, snippet, replies\",\n",
    "        videoId = VideoId,\n",
    "        pageToken = nextPageToken,\n",
    "        maxResults = 100\n",
    "    )\n",
    "    response = request.execute()\n",
    "\n",
    "    return response\n",
    "\n",
    "def transformacion(respuesta):\n",
    "    \n",
    "    df = pd.DataFrame(columns=[\"autor\",\"texto\"])\n",
    "    \n",
    "    for n in range(0,len(respuesta[\"items\"])):\n",
    "        autor = respuesta[\"items\"][n][\"snippet\"][\"topLevelComment\"][\"snippet\"][\"authorDisplayName\"]\n",
    "        texto = respuesta[\"items\"][n][\"snippet\"][\"topLevelComment\"][\"snippet\"][\"textDisplay\"]\n",
    "        df.loc[n,\"autor\"] = autor\n",
    "        df.loc[n,\"texto\"] = texto\n",
    "\n",
    "    return df\n",
    "\n",
    "\n",
    "def crear_dataframe(VideoId):\n",
    "\n",
    "    respuesta = primera_pagina(VideoId)\n",
    "    \n",
    "    df = transformacion(respuesta)\n",
    "    \n",
    "    while 'nextPageToken' in respuesta.keys():\n",
    "        respuesta = siguiente_pagina(VideoId,respuesta['nextPageToken'])\n",
    "        df2 = transformacion(respuesta)\n",
    "        df = pd.concat([df,df2], axis=0)\n",
    "\n",
    "    return df\n",
    "\n",
    "def contar(VideoId):\n",
    "\n",
    "    df = crear_dataframe(VideoId)\n",
    "\n",
    "    seis = df[\"texto\"].str.contains(\"4556\").sum()\n",
    "    siete = df[\"texto\"].str.contains(\"4557\").sum()\n",
    "    ocho = df[\"texto\"].str.contains(\"4558\").sum()\n",
    "    nueve = df[\"texto\"].str.contains(\"4559\").sum()\n",
    "    diccionario = {\n",
    "        \"seis\":seis,\n",
    "        \"siete\":siete,\n",
    "        \"ocho\":ocho,\n",
    "        \"nueve\":nueve\n",
    "        }\n",
    "    return diccionario"
   ]
  },
  {
   "cell_type": "code",
   "execution_count": 8,
   "metadata": {},
   "outputs": [],
   "source": [
    "resultados = contar(VideoId)"
   ]
  },
  {
   "cell_type": "code",
   "execution_count": 9,
   "metadata": {},
   "outputs": [
    {
     "data": {
      "text/plain": [
       "{'seis': 88, 'siete': 43, 'ocho': 0, 'nueve': 0}"
      ]
     },
     "execution_count": 9,
     "metadata": {},
     "output_type": "execute_result"
    }
   ],
   "source": [
    "resultados"
   ]
  }
 ],
 "metadata": {
  "kernelspec": {
   "display_name": "Python 3.10.0 64-bit",
   "language": "python",
   "name": "python3"
  },
  "language_info": {
   "codemirror_mode": {
    "name": "ipython",
    "version": 3
   },
   "file_extension": ".py",
   "mimetype": "text/x-python",
   "name": "python",
   "nbconvert_exporter": "python",
   "pygments_lexer": "ipython3",
   "version": "3.10.0"
  },
  "orig_nbformat": 4,
  "vscode": {
   "interpreter": {
    "hash": "bb005c365038adc55fb7897537444f2e763afd05144f871366f10ce7eef6d0d6"
   }
  }
 },
 "nbformat": 4,
 "nbformat_minor": 2
}
